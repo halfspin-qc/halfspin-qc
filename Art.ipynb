{
 "cells": [
  {
   "cell_type": "code",
   "execution_count": 2,
   "id": "published-zoning",
   "metadata": {},
   "outputs": [
    {
     "name": "stderr",
     "output_type": "stream",
     "text": [
      "ibmqfactory.load_account:WARNING:2021-03-05 06:57:41,877: Credentials are already in use. The existing account in the session will be replaced.\n"
     ]
    }
   ],
   "source": [
    "%matplotlib inline\n",
    "# Importing standard Qiskit libraries\n",
    "from qiskit import QuantumCircuit, execute, Aer, IBMQ\n",
    "from qiskit.compiler import transpile, assemble\n",
    "from qiskit.tools.jupyter import *\n",
    "from qiskit.visualization import *\n",
    "from ibm_quantum_widgets import *\n",
    "\n",
    "# Loading your IBM Q account(s)\n",
    "provider = IBMQ.load_account()"
   ]
  },
  {
   "cell_type": "code",
   "execution_count": 3,
   "id": "sunrise-denmark",
   "metadata": {},
   "outputs": [],
   "source": [
    "    # initialization\n",
    "import matplotlib.pyplot as plt\n",
    "import numpy as np\n",
    "\n",
    "# importing Qiskit\n",
    "from qiskit import IBMQ, BasicAer\n",
    "# from qiskit.providers.ibmq import least_busy\n",
    "from qiskit.providers.ibmq import *\n",
    "from qiskit import QuantumCircuit, ClassicalRegister, QuantumRegister, execute\n",
    "\n",
    "# import basic plot tools\n",
    "from qiskit.visualization import plot_histogram"
   ]
  },
  {
   "cell_type": "code",
   "execution_count": 4,
   "id": "completed-launch",
   "metadata": {},
   "outputs": [],
   "source": [
    "n = 7 # number of qubits used to represent s\n",
    "\n",
    "def wordToBV(s) :\n",
    "    #convert text to binary\n",
    "    a_byte_array = bytearray(s, \"utf8\")\n",
    "    byte_list = []\n",
    "\n",
    "\n",
    "    for byte in a_byte_array:\n",
    "        binary_representation = bin(byte)\n",
    "        byte_list.append(binary_representation[9-n:])\n",
    "        #chop off the \"0b\" at the beginning. can also truncate the binary to fit on a device with N qubits\n",
    "        #binary has 2 extra digits for \"0b\", so it starts at 9 for our 7 bit operation. \n",
    "\n",
    "    print(byte_list)\n",
    "    \n",
    "    circuit_array = []\n",
    "    \n",
    "    length = len(byte_list) \n",
    "    \n",
    "    for i in range(length):\n",
    "    \n",
    "        s = byte_list[i]\n",
    "\n",
    "\n",
    "        #do all  this stuff for every letter\n",
    "\n",
    "        # We need a circuit with n qubits, plus one ancilla qubit\n",
    "        # Also need n classical bits to write the output to\n",
    "        bv_circuit = QuantumCircuit(n+1, n)\n",
    "\n",
    "        # put ancilla in state |->\n",
    "        bv_circuit.h(n)\n",
    "        bv_circuit.z(n)\n",
    "\n",
    "        # Apply Hadamard gates before querying the oracle\n",
    "        for i in range(n):\n",
    "            bv_circuit.h(i)\n",
    "\n",
    "        # Apply barrier \n",
    "        bv_circuit.barrier()\n",
    "\n",
    "        # Apply the inner-product oracle\n",
    "        s = s[::-1] # reverse s to fit qiskit's qubit ordering\n",
    "        for q in range(n):\n",
    "            if s[q] == '0':\n",
    "                bv_circuit.i(q)\n",
    "            else:\n",
    "                bv_circuit.cx(q, n)\n",
    "\n",
    "        # Apply barrier \n",
    "        bv_circuit.barrier()\n",
    "\n",
    "        #Apply Hadamard gates after querying the oracle\n",
    "        for i in range(n):\n",
    "            bv_circuit.h(i)\n",
    "\n",
    "        # Measurement\n",
    "        for i in range(n):\n",
    "            bv_circuit.measure(i, i)\n",
    "            \n",
    "        circuit_array.append(bv_circuit)\n",
    "\n",
    "    \n",
    "    return circuit_array\n",
    "\n"
   ]
  },
  {
   "cell_type": "code",
   "execution_count": null,
   "id": "drawn-plastic",
   "metadata": {},
   "outputs": [
    {
     "name": "stdout",
     "output_type": "stream",
     "text": [
      "['1010100', '1101111', '1110010', '1101111', '1101110', '1110100', '1101111']\n"
     ]
    }
   ],
   "source": [
    "circuit_to_run = wordToBV('Toronto')\n",
    "\n",
    "#run the first letter on a simulator\n",
    "backend = provider.get_backend('ibmq_16_melbourne')\n",
    "shots = 4096\n",
    "results = execute(circuit_to_run[0], backend=backend, shots=shots).result()\n",
    "answer = results.get_counts()\n",
    "\n",
    "plot_histogram(answer)"
   ]
  }
 ],
 "metadata": {
  "kernelspec": {
   "display_name": "Python 3",
   "language": "python",
   "name": "python3"
  },
  "language_info": {
   "codemirror_mode": {
    "name": "ipython",
    "version": 3
   },
   "file_extension": ".py",
   "mimetype": "text/x-python",
   "name": "python",
   "nbconvert_exporter": "python",
   "pygments_lexer": "ipython3",
   "version": "3.8.8"
  }
 },
 "nbformat": 4,
 "nbformat_minor": 5
}
